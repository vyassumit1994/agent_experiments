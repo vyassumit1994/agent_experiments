{
 "cells": [
  {
   "cell_type": "code",
   "execution_count": 1,
   "metadata": {},
   "outputs": [],
   "source": [
    "\n",
    "from llama_index.llms.azure_openai import AzureOpenAI\n",
    "from llama_index.embeddings.azure_openai import AzureOpenAIEmbedding\n",
    "from llama_index.core import VectorStoreIndex, SimpleDirectoryReader\n",
    "import logging\n",
    "import sys"
   ]
  },
  {
   "cell_type": "code",
   "execution_count": 2,
   "metadata": {},
   "outputs": [],
   "source": [
    "import os\n",
    "os.getcwd()\n"
   ]
  },
  {
   "cell_type": "code",
   "execution_count": 3,
   "metadata": {},
   "outputs": [],
   "source": [
    "#!pip install llama-index-embeddings-azure-openai\n",
    "#!pip install llama-index-llms-azure-openai\n",
    "#!pip install llama-index"
   ]
  },
  {
   "cell_type": "code",
   "execution_count": 5,
   "metadata": {},
   "outputs": [],
   "source": [
    "from llm.secrets_local import ada_key, gpt4_turbo_key, gcp_key, gpt4_32k_key"
   ]
  },
  {
   "cell_type": "code",
   "execution_count": 6,
   "metadata": {},
   "outputs": [],
   "source": [
    "llm = AzureOpenAI(\n",
    "  model=\"gpt-4-32k\",\n",
    "  deployment_name=\"ds-gpt-4-32k\",\n",
    "  api_key = gpt4_32k_key,\n",
    "  api_version = \"2023-12-01-preview\",\n",
    "  azure_endpoint =\n",
    ")\n",
    "\n",
    "\n",
    "#valid OpenAI model name in: gpt-4, gpt-4-32k, gpt-4-1106-preview, gpt-4-0125-preview, gpt-4-turbo-preview, gpt-4-vision-preview, gpt-4-turbo-2024-04-09, gpt-4-turbo, gpt-4-0613, gpt-4-32k-0613, gpt-4-0314, gpt-4-32k-0314, gpt-3.5-turbo, gpt-3.5-turbo-16k, gpt-3.5-turbo-0125, gpt-3.5-turbo-1106, gpt-3.5-turbo-0613, gpt-3.5-turbo-16k-0613, gpt-3.5-turbo-0301, text-davinci-003, text-davinci-002, gpt-3.5-turbo-instruct, text-ada-001, text-babbage-001, text-curie-001, ada, babbage, curie, davinci, gpt-35-turbo-16k, gpt-35-turbo, gpt-35-turbo-0125, gpt-35-turbo-1106, gpt-35-turbo-0613, gpt-35-turbo-16k-0613\n",
    "\n"
   ]
  },
  {
   "cell_type": "code",
   "execution_count": 7,
   "metadata": {},
   "outputs": [],
   "source": [
    "\n",
    "from llama_index.core.llama_pack import download_llama_pack"
   ]
  },
  {
   "cell_type": "code",
   "execution_count": 8,
   "metadata": {},
   "outputs": [],
   "source": [
    "import requests\n",
    "from urllib3.exceptions import InsecureRequestWarning\n",
    "\n",
    "# Suppress only the single warning from urllib3 needed.\n",
    "requests.packages.urllib3.disable_warnings(category=InsecureRequestWarning)\n",
    "\n",
    "import ssl\n",
    "\n",
    "ssl._create_default_https_context = ssl._create_unverified_context\n"
   ]
  },
  {
   "cell_type": "code",
   "execution_count": 9,
   "metadata": {},
   "outputs": [],
   "source": [
    "SelfDiscoverPack = download_llama_pack(\"SelfDiscoverPack\", \"./self_discover_pack\", refresh_cache=False)"
   ]
  },
  {
   "cell_type": "code",
   "execution_count": 10,
   "metadata": {},
   "outputs": [],
   "source": [
    "\n",
    "self_discover_pack = SelfDiscoverPack(verbose=True, llm=llm)\n",
    "\n",
    "#from llama_index.packs.self_discover import SelfDiscoverPack"
   ]
  },
  {
   "cell_type": "code",
   "execution_count": 11,
   "metadata": {},
   "outputs": [
    {
     "name": "stdout",
     "output_type": "stream",
     "text": [
      "\u001b[1;3;38;2;155;135;227m> Running module input with input: \n",
      "task: Michael has 15 oranges. He gives 4 oranges to his brother and trades 3 oranges for 6 apples with his neighbor. \n",
      "Later in the day, he realizes some of his oranges are spoiled, so he discards 2 of them....\n",
      "reasoning_modules: 1. How could I devise an experiment to help solve that problem?\n",
      "2. Make a list of ideas for solving this problem, and apply them one by one to the problem to see if any progress can be made.\n",
      "3. How co...\n",
      "\n",
      "\u001b[0m\u001b[1;3;38;2;155;135;227m> Running module select_prompt_template with input: \n",
      "task: Michael has 15 oranges. He gives 4 oranges to his brother and trades 3 oranges for 6 apples with his neighbor. \n",
      "Later in the day, he realizes some of his oranges are spoiled, so he discards 2 of them....\n",
      "reasoning_modules: 1. How could I devise an experiment to help solve that problem?\n",
      "2. Make a list of ideas for solving this problem, and apply them one by one to the problem to see if any progress can be made.\n",
      "3. How co...\n",
      "\n",
      "\u001b[0m\u001b[1;3;38;2;155;135;227m> Running module select_llm with input: \n",
      "messages: Given the task: Michael has 15 oranges. He gives 4 oranges to his brother and trades 3 oranges for 6 apples with his neighbor. \n",
      "Later in the day, he realizes some of his oranges are spoiled, so he dis...\n",
      "\n",
      "\u001b[0m\u001b[1;3;38;2;155;135;227m> Running module adapt_prompt_template with input: \n",
      "task: Michael has 15 oranges. He gives 4 oranges to his brother and trades 3 oranges for 6 apples with his neighbor. \n",
      "Later in the day, he realizes some of his oranges are spoiled, so he discards 2 of them....\n",
      "selected_modules: assistant: 2. Make a list of ideas for solving this problem, and apply them one by one to the problem to see if any progress can be made.\n",
      "4. How can I simplify the problem so that it is easier to solv...\n",
      "\n",
      "\u001b[0m\u001b[1;3;38;2;155;135;227m> Running module adapt_llm with input: \n",
      "messages: Without working out the full solution, adapt the following reasoning modules to be specific to our task:\n",
      "2. Make a list of ideas for solving this problem, and apply them one by one to the problem to s...\n",
      "\n",
      "\u001b[0m\u001b[1;3;38;2;155;135;227m> Running module implement_prompt_template with input: \n",
      "task: Michael has 15 oranges. He gives 4 oranges to his brother and trades 3 oranges for 6 apples with his neighbor. \n",
      "Later in the day, he realizes some of his oranges are spoiled, so he discards 2 of them....\n",
      "adapted_modules: assistant: 2. Let's brainstorm some ideas for solving this problem. We could start by tracking the number of oranges and apples Michael has at each step of the story. We could also try to simplify the...\n",
      "\n",
      "\u001b[0m\u001b[1;3;38;2;155;135;227m> Running module implement_llm with input: \n",
      "messages: Without working out the full solution, create an actionable reasoning structure for the task using these adapted reasoning modules:\n",
      "2. Let's brainstorm some ideas for solving this problem. We could st...\n",
      "\n",
      "\u001b[0m\u001b[1;3;38;2;155;135;227m> Running module reasoning_prompt_template with input: \n",
      "task: Michael has 15 oranges. He gives 4 oranges to his brother and trades 3 oranges for 6 apples with his neighbor. \n",
      "Later in the day, he realizes some of his oranges are spoiled, so he discards 2 of them....\n",
      "reasoning_structure: assistant: 1. Identify the initial number of oranges and apples Michael has.\n",
      "2. Track the number of oranges Michael gives to his brother and subtract this from the initial count.\n",
      "3. Track the number o...\n",
      "\n",
      "\u001b[0m\u001b[1;3;38;2;155;135;227m> Running module reasoning_llm with input: \n",
      "messages: Using the following reasoning structure: 1. Identify the initial number of oranges and apples Michael has.\n",
      "2. Track the number of oranges Michael gives to his brother and subtract this from the initia...\n",
      "\n",
      "\u001b[0massistant: 1. Michael initially has 15 oranges and 0 apples.\n",
      "2. After giving 4 oranges to his brother, he has 15 - 4 = 11 oranges.\n",
      "3. He trades 3 oranges for 6 apples with his neighbor. This leaves him with 11 - 3 = 8 oranges and 0 + 6 = 6 apples.\n",
      "4. After discarding 2 spoiled oranges, he has 8 - 2 = 6 oranges.\n",
      "5. Michael buys 12 more oranges and 5 more apples at the market. This increases his count to 6 + 12 = 18 oranges and 6 + 5 = 11 apples.\n",
      "6. After giving 2 apples to his friend, he has 11 - 2 = 9 apples.\n",
      "7. Therefore, after all transactions, Michael has 18 oranges and 9 apples.\n",
      "8. Reviewing the calculations, all transactions have been accounted for and the final counts are accurate.\n"
     ]
    }
   ],
   "source": [
    "task = \"\"\"Michael has 15 oranges. \n",
    "He gives 4 oranges to his brother and trades 3 oranges for 6 apples with his neighbor. \n",
    "Later in the day, he realizes some of his oranges are spoiled, so he discards 2 of them. \n",
    "Then, Michael goes to the market and buys 12 more oranges and 5 more apples. \n",
    "If Michael decides to give 2 apples to his friend, how many oranges and apples does Michael have now?\"\"\"\n",
    "output = self_discover_pack.run(task)\n",
    "print (output)\n"
   ]
  },
  {
   "cell_type": "code",
   "execution_count": 12,
   "metadata": {},
   "outputs": [
    {
     "name": "stdout",
     "output_type": "stream",
     "text": [
      "\u001b[1;3;38;2;155;135;227m> Running module input with input: \n",
      "task: Tom needs to buy ingredients for a spaghetti dinner he's planning for himself and a friend. \n",
      "He already has pasta at home but needs to buy tomato sauce and ground beef. At the store, tomato sauce cost...\n",
      "reasoning_modules: 1. How could I devise an experiment to help solve that problem?\n",
      "2. Make a list of ideas for solving this problem, and apply them one by one to the problem to see if any progress can be made.\n",
      "3. How co...\n",
      "\n",
      "\u001b[0m\u001b[1;3;38;2;155;135;227m> Running module select_prompt_template with input: \n",
      "task: Tom needs to buy ingredients for a spaghetti dinner he's planning for himself and a friend. \n",
      "He already has pasta at home but needs to buy tomato sauce and ground beef. At the store, tomato sauce cost...\n",
      "reasoning_modules: 1. How could I devise an experiment to help solve that problem?\n",
      "2. Make a list of ideas for solving this problem, and apply them one by one to the problem to see if any progress can be made.\n",
      "3. How co...\n",
      "\n",
      "\u001b[0m\u001b[1;3;38;2;155;135;227m> Running module select_llm with input: \n",
      "messages: Given the task: Tom needs to buy ingredients for a spaghetti dinner he's planning for himself and a friend. \n",
      "He already has pasta at home but needs to buy tomato sauce and ground beef. At the store, t...\n",
      "\n",
      "\u001b[0m\u001b[1;3;38;2;155;135;227m> Running module adapt_prompt_template with input: \n",
      "task: Tom needs to buy ingredients for a spaghetti dinner he's planning for himself and a friend. \n",
      "He already has pasta at home but needs to buy tomato sauce and ground beef. At the store, tomato sauce cost...\n",
      "selected_modules: assistant: 2. Make a list of ideas for solving this problem, and apply them one by one to the problem to see if any progress can be made.\n",
      "4. How can I simplify the problem so that it is easier to solv...\n",
      "\n",
      "\u001b[0m\u001b[1;3;38;2;155;135;227m> Running module adapt_llm with input: \n",
      "messages: Without working out the full solution, adapt the following reasoning modules to be specific to our task:\n",
      "2. Make a list of ideas for solving this problem, and apply them one by one to the problem to s...\n",
      "\n",
      "\u001b[0m\u001b[1;3;38;2;155;135;227m> Running module implement_prompt_template with input: \n",
      "task: Tom needs to buy ingredients for a spaghetti dinner he's planning for himself and a friend. \n",
      "He already has pasta at home but needs to buy tomato sauce and ground beef. At the store, tomato sauce cost...\n",
      "adapted_modules: assistant: 2. List of ideas: Calculate the total cost of the items Tom bought, subtract this from the $50 bill he paid with.\n",
      "4. Simplify the problem: Ignore the change for now, just calculate the tota...\n",
      "\n",
      "\u001b[0m\u001b[1;3;38;2;155;135;227m> Running module implement_llm with input: \n",
      "messages: Without working out the full solution, create an actionable reasoning structure for the task using these adapted reasoning modules:\n",
      "2. List of ideas: Calculate the total cost of the items Tom bought, ...\n",
      "\n",
      "\u001b[0m\u001b[1;3;38;2;155;135;227m> Running module reasoning_prompt_template with input: \n",
      "task: Tom needs to buy ingredients for a spaghetti dinner he's planning for himself and a friend. \n",
      "He already has pasta at home but needs to buy tomato sauce and ground beef. At the store, tomato sauce cost...\n",
      "reasoning_structure: assistant: Reasoning Structure:\n",
      "\n",
      "1. Identify the core issue: The core issue is to determine how much change Tom should receive after buying the items.\n",
      "\n",
      "2. Gather relevant data: The cost of each item a...\n",
      "\n",
      "\u001b[0m\u001b[1;3;38;2;155;135;227m> Running module reasoning_llm with input: \n",
      "messages: Using the following reasoning structure: Reasoning Structure:\n",
      "\n",
      "1. Identify the core issue: The core issue is to determine how much change Tom should receive after buying the items.\n",
      "\n",
      "2. Gather relevant...\n",
      "\n",
      "\u001b[0massistant: First, calculate the cost of the tomato sauce: 2 jars * $3/jar = $6.\n",
      "Next, calculate the cost of the ground beef: 2 pounds * $5/pound = $10.\n",
      "Add the cost of the bread: $2.50.\n",
      "The total cost of the items is $6 + $10 + $2.50 = $18.50.\n",
      "Subtract this from the $50 bill: $50 - $18.50 = $31.50.\n",
      "So, Tom should receive $31.50 in change after purchasing these items.\n"
     ]
    }
   ],
   "source": [
    "task = \"\"\"Tom needs to buy ingredients for a spaghetti dinner he's planning for himself and a friend. \n",
    "He already has pasta at home but needs to buy tomato sauce and ground beef. \n",
    "At the store, tomato sauce costs $3 per jar and ground beef costs $5 per pound. \n",
    "Tom buys 2 jars of tomato sauce and 2 pounds of ground beef. He also picks up a loaf of bread for $2.50. \n",
    "If Tom pays with a $50 bill, how much change should he receive after purchasing these items?\"\"\"\n",
    "output = self_discover_pack.run(task)\n",
    "print (output)"
   ]
  },
  {
   "cell_type": "code",
   "execution_count": 15,
   "metadata": {},
   "outputs": [
    {
     "name": "stderr",
     "output_type": "stream",
     "text": [
      "[NbConvertApp] Converting notebook llamaindex_self_discover.ipynb to html\n",
      "C:\\Users\\vyassum\\.pyenv\\pyenv-win\\versions\\3.8.1\\lib\\site-packages\\nbconvert\\filters\\highlight.py:71: UserWarning: IPython3 lexer unavailable, falling back on Python 3\n",
      "  return _pygments_highlight(\n",
      "[NbConvertApp] Writing 292832 bytes to llamaindex_self_discover.html\n"
     ]
    }
   ],
   "source": [
    "!jupyter nbconvert --to html llamaindex_self_discover.ipynb "
   ]
  },
  {
   "cell_type": "code",
   "execution_count": null,
   "metadata": {},
   "outputs": [],
   "source": []
  }
 ],
 "metadata": {
  "kernelspec": {
   "display_name": "Python 3 (ipykernel)",
   "language": "python",
   "name": "python3"
  },
  "language_info": {
   "codemirror_mode": {
    "name": "ipython",
    "version": 3
   },
   "file_extension": ".py",
   "mimetype": "text/x-python",
   "name": "python",
   "nbconvert_exporter": "python",
   "pygments_lexer": "ipython3",
   "version": "3.10.1"
  }
 },
 "nbformat": 4,
 "nbformat_minor": 2
}
