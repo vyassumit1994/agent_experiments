{
 "cells": [
  {
   "cell_type": "code",
   "execution_count": 1,
   "metadata": {},
   "outputs": [],
   "source": [
    "from langchain.agents import AgentType, initialize_agent\n",
    "from langchain.tools import Tool\n",
    "from langchain.chat_models import ChatOpenAI\n",
    "from langchain.callbacks import StdOutCallbackHandler\n",
    "from langchain.schema import AIMessage, HumanMessage, SystemMessage\n",
    "from langchain.memory import ConversationBufferMemory\n",
    "import logging"
   ]
  },
  {
   "cell_type": "code",
   "execution_count": 2,
   "metadata": {},
   "outputs": [],
   "source": [
    "# Setup logging\n",
    "logging.basicConfig(level=logging.INFO, format='%(asctime)s - %(levelname)s - %(message)s')"
   ]
  },
  {
   "cell_type": "code",
   "execution_count": 3,
   "metadata": {},
   "outputs": [],
   "source": [
    "# Define tools\n",
    "def tool_1(input_text: str) -> str:\n",
    "    output = f\"Tool 1 processed: {input_text}\"\n",
    "    logging.info(f\"Tool 1 - Input: {input_text}, Output: {output}\")\n",
    "    return output\n",
    "\n",
    "def tool_2(input_number: str) -> str:\n",
    "    try:\n",
    "        num = int(input_number)\n",
    "        output = f\"Tool 2 squared: {num ** 2}\"\n",
    "        logging.info(f\"Tool 2 - Input: {num}, Output: {output}\")\n",
    "        return output\n",
    "    except ValueError:\n",
    "        logging.error(\"Invalid input: expected an integer.\")\n",
    "        return \"Error: Invalid input, expected an integer.\""
   ]
  },
  {
   "cell_type": "code",
   "execution_count": 4,
   "metadata": {},
   "outputs": [],
   "source": [
    "# Create LangChain Tools\n",
    "tools = [\n",
    "    Tool(\n",
    "        name=\"TextProcessor\",\n",
    "        func=tool_1,\n",
    "        description=\"Processes input text and returns a modified version.\"\n",
    "    ),\n",
    "    Tool(\n",
    "        name=\"NumberSquarer\",\n",
    "        func=tool_2,\n",
    "        description=\"Squares an input number and returns the result.\"\n",
    "    )\n",
    "]"
   ]
  },
  {
   "cell_type": "code",
   "execution_count": null,
   "metadata": {},
   "outputs": [],
   "source": [
    "from langchain_openai.chat_models import AzureChatOpenAI\n",
    "gpt4o_key = <>\n",
    "\n",
    "TEMPERATURE = 0.0\n",
    "\n",
    "def llm_4o_for_langchain():\n",
    "    return AzureChatOpenAI(\n",
    "        temperature=TEMPERATURE,\n",
    "        deployment_name=\"ds-gpt-4o\",\n",
    "        api_key=gpt4o_key,\n",
    "        azure_endpoint = \"https://cser-tva1-es-dsopenai001.openai.azure.com/\",\n",
    "        api_version = \"2024-02-01\",\n",
    "    )"
   ]
  },
  {
   "cell_type": "code",
   "execution_count": 6,
   "metadata": {},
   "outputs": [],
   "source": [
    "llm_4o = llm_4o_for_langchain()"
   ]
  },
  {
   "cell_type": "code",
   "execution_count": 24,
   "metadata": {},
   "outputs": [],
   "source": [
    "from langchain.schema.runnable import Runnable\n",
    "from typing import Any\n",
    "\n",
    "class WrappedLLM(Runnable):\n",
    "    def invoke(self, *args: Any, **kwargs: Any) -> Any:\n",
    "        response = llm_4o.invoke(*args, **kwargs)\n",
    "        logging.info(f\"LLM Response: {response.response_metadata}\")\n",
    "        #if hasattr(response, 'usage'):\n",
    "        logging.info(f\"LLM Input Tokens: {response.response_metadata['token_usage'].get('prompt_tokens')}\")\n",
    "        logging.info(f\"LLM Output Tokens: {response.response_metadata['token_usage'].get('completion_tokens')}\")\n",
    "        return response\n",
    "\n",
    "wrapped_llm = WrappedLLM()"
   ]
  },
  {
   "cell_type": "code",
   "execution_count": 25,
   "metadata": {},
   "outputs": [],
   "source": [
    "# Setup memory for conversational history\n",
    "memory = ConversationBufferMemory(memory_key=\"chat_history\")"
   ]
  },
  {
   "cell_type": "code",
   "execution_count": 26,
   "metadata": {},
   "outputs": [],
   "source": [
    "# Initialize agent\n",
    "agent = initialize_agent(\n",
    "    tools=tools,\n",
    "    llm=wrapped_llm,\n",
    "    agent=AgentType.ZERO_SHOT_REACT_DESCRIPTION,\n",
    "    verbose=True,\n",
    "    memory=memory,\n",
    "    handle_parsing_errors=True,\n",
    ")"
   ]
  },
  {
   "cell_type": "code",
   "execution_count": 27,
   "metadata": {},
   "outputs": [
    {
     "name": "stdout",
     "output_type": "stream",
     "text": [
      "\n",
      "\n",
      "\u001b[1m> Entering new AgentExecutor chain...\u001b[0m\n"
     ]
    },
    {
     "name": "stderr",
     "output_type": "stream",
     "text": [
      "2025-02-24 17:47:49,155 - INFO - HTTP Request: POST https://cser-tva1-es-dsopenai001.openai.azure.com//openai/deployments/ds-gpt-4o/chat/completions?api-version=2024-02-01 \"HTTP/1.1 200 OK\"\n",
      "2025-02-24 17:47:49,158 - INFO - LLM Response: {'token_usage': {'completion_tokens': 28, 'prompt_tokens': 182, 'total_tokens': 210, 'completion_tokens_details': None, 'prompt_tokens_details': None}, 'model_name': 'gpt-4o-2024-05-13', 'system_fingerprint': 'fp_65792305e4', 'prompt_filter_results': [{'prompt_index': 0, 'content_filter_results': {'hate': {'filtered': False, 'severity': 'safe'}, 'self_harm': {'filtered': False, 'severity': 'safe'}, 'sexual': {'filtered': False, 'severity': 'safe'}, 'violence': {'filtered': False, 'severity': 'safe'}}}], 'finish_reason': 'stop', 'logprobs': None, 'content_filter_results': {'hate': {'filtered': False, 'severity': 'safe'}, 'self_harm': {'filtered': False, 'severity': 'safe'}, 'sexual': {'filtered': False, 'severity': 'safe'}, 'violence': {'filtered': False, 'severity': 'safe'}}}\n",
      "2025-02-24 17:47:49,160 - INFO - LLM Input Tokens: 182\n",
      "2025-02-24 17:47:49,161 - INFO - LLM Output Tokens: 28\n",
      "2025-02-24 17:47:49,165 - INFO - Tool 2 - Input: 5, Output: Tool 2 squared: 25\n"
     ]
    },
    {
     "name": "stdout",
     "output_type": "stream",
     "text": [
      "\u001b[32;1m\u001b[1;3mI need to square the number 5 and process the text 'Hello AI!'.\n",
      "Action: NumberSquarer\n",
      "Action Input: 5\u001b[0m\n",
      "Observation: \u001b[33;1m\u001b[1;3mTool 2 squared: 25\u001b[0m\n",
      "Thought:"
     ]
    },
    {
     "name": "stderr",
     "output_type": "stream",
     "text": [
      "2025-02-24 17:47:50,557 - INFO - HTTP Request: POST https://cser-tva1-es-dsopenai001.openai.azure.com//openai/deployments/ds-gpt-4o/chat/completions?api-version=2024-02-01 \"HTTP/1.1 200 OK\"\n",
      "2025-02-24 17:47:50,561 - INFO - LLM Response: {'token_usage': {'completion_tokens': 38, 'prompt_tokens': 222, 'total_tokens': 260, 'completion_tokens_details': None, 'prompt_tokens_details': None}, 'model_name': 'gpt-4o-2024-05-13', 'system_fingerprint': 'fp_65792305e4', 'prompt_filter_results': [{'prompt_index': 0, 'content_filter_results': {'hate': {'filtered': False, 'severity': 'safe'}, 'self_harm': {'filtered': False, 'severity': 'safe'}, 'sexual': {'filtered': False, 'severity': 'safe'}, 'violence': {'filtered': False, 'severity': 'safe'}}}], 'finish_reason': 'stop', 'logprobs': None, 'content_filter_results': {'hate': {'filtered': False, 'severity': 'safe'}, 'self_harm': {'filtered': False, 'severity': 'safe'}, 'sexual': {'filtered': False, 'severity': 'safe'}, 'violence': {'filtered': False, 'severity': 'safe'}}}\n",
      "2025-02-24 17:47:50,563 - INFO - LLM Input Tokens: 222\n",
      "2025-02-24 17:47:50,564 - INFO - LLM Output Tokens: 38\n",
      "2025-02-24 17:47:50,567 - INFO - Tool 1 - Input: Hello AI!, Output: Tool 1 processed: Hello AI!\n"
     ]
    },
    {
     "name": "stdout",
     "output_type": "stream",
     "text": [
      "\u001b[32;1m\u001b[1;3mI have squared the number 5 and obtained the result 25. Now, I need to process the text 'Hello AI!'.\n",
      "Action: TextProcessor\n",
      "Action Input: Hello AI!\u001b[0m\n",
      "Observation: \u001b[36;1m\u001b[1;3mTool 1 processed: Hello AI!\u001b[0m\n",
      "Thought:"
     ]
    },
    {
     "name": "stderr",
     "output_type": "stream",
     "text": [
      "2025-02-24 17:47:52,146 - INFO - HTTP Request: POST https://cser-tva1-es-dsopenai001.openai.azure.com//openai/deployments/ds-gpt-4o/chat/completions?api-version=2024-02-01 \"HTTP/1.1 200 OK\"\n",
      "2025-02-24 17:47:52,149 - INFO - LLM Response: {'token_usage': {'completion_tokens': 44, 'prompt_tokens': 271, 'total_tokens': 315, 'completion_tokens_details': None, 'prompt_tokens_details': None}, 'model_name': 'gpt-4o-2024-05-13', 'system_fingerprint': 'fp_65792305e4', 'prompt_filter_results': [{'prompt_index': 0, 'content_filter_results': {'hate': {'filtered': False, 'severity': 'safe'}, 'self_harm': {'filtered': False, 'severity': 'safe'}, 'sexual': {'filtered': False, 'severity': 'safe'}, 'violence': {'filtered': False, 'severity': 'safe'}}}], 'finish_reason': 'stop', 'logprobs': None, 'content_filter_results': {'hate': {'filtered': False, 'severity': 'safe'}, 'self_harm': {'filtered': False, 'severity': 'safe'}, 'sexual': {'filtered': False, 'severity': 'safe'}, 'violence': {'filtered': False, 'severity': 'safe'}}}\n",
      "2025-02-24 17:47:52,151 - INFO - LLM Input Tokens: 271\n",
      "2025-02-24 17:47:52,152 - INFO - LLM Output Tokens: 44\n",
      "2025-02-24 17:47:52,154 - INFO - Agent Response: The square of 5 is 25. The processed text is 'Hello AI!'.\n"
     ]
    },
    {
     "name": "stdout",
     "output_type": "stream",
     "text": [
      "\u001b[32;1m\u001b[1;3mI have squared the number 5 to get 25 and processed the text 'Hello AI!' which remains unchanged.\n",
      "\n",
      "Final Answer: The square of 5 is 25. The processed text is 'Hello AI!'.\u001b[0m\n",
      "\n",
      "\u001b[1m> Finished chain.\u001b[0m\n"
     ]
    }
   ],
   "source": [
    "# Execute agent query\n",
    "response = agent.run(\"What is 5 squared? Also, process the text 'Hello AI!'\")\n",
    "logging.info(f\"Agent Response: {response}\")"
   ]
  },
  {
   "cell_type": "code",
   "execution_count": null,
   "metadata": {},
   "outputs": [],
   "source": []
  }
 ],
 "metadata": {
  "kernelspec": {
   "display_name": ".venv",
   "language": "python",
   "name": "python3"
  },
  "language_info": {
   "codemirror_mode": {
    "name": "ipython",
    "version": 3
   },
   "file_extension": ".py",
   "mimetype": "text/x-python",
   "name": "python",
   "nbconvert_exporter": "python",
   "pygments_lexer": "ipython3",
   "version": "3.10.11"
  }
 },
 "nbformat": 4,
 "nbformat_minor": 2
}
